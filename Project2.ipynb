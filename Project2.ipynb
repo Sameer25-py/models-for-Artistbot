{
  "nbformat": 4,
  "nbformat_minor": 0,
  "metadata": {
    "colab": {
      "name": "Project2.ipynb",
      "provenance": [],
      "collapsed_sections": [
        "xgsdsuokSj0C"
      ]
    },
    "kernelspec": {
      "name": "python3",
      "display_name": "Python 3"
    },
    "accelerator": "GPU"
  },
  "cells": [
    {
      "cell_type": "code",
      "metadata": {
        "id": "Vd891Z0NFz15",
        "colab": {
          "base_uri": "https://localhost:8080/",
          "height": 90
        },
        "outputId": "9dfa8e6e-3a16-489e-a338-ab7f9993c9de"
      },
      "source": [
        "%cd /content/drive/My Drive/Colab Notebooks/data\n",
        "import re\n",
        "import sklearn\n",
        "import pandas as pd\n",
        "import numpy as np\n",
        "from sklearn.feature_extraction.text import CountVectorizer\n",
        "from sklearn.model_selection import train_test_split as splitter\n",
        "from sklearn.preprocessing import LabelEncoder\n",
        "from sklearn.preprocessing import OneHotEncoder\n",
        "from sklearn.linear_model import LogisticRegression\n",
        "from sklearn import svm\n",
        "from sklearn.naive_bayes import GaussianNB\n",
        "from sklearn.naive_bayes import MultinomialNB\n",
        "from scipy.sparse import csr_matrix\n",
        "import tensorflow as tf\n",
        "from tensorflow import keras\n",
        "from tensorflow.keras.models import Sequential\n",
        "from tensorflow.keras import layers\n",
        "from tensorflow.keras.layers import Dropout\n",
        "from tensorflow.keras.callbacks import ModelCheckpoint, EarlyStopping, CSVLogger, ReduceLROnPlateau\n",
        "from sklearn.metrics import f1_score, precision_score, recall_score, confusion_matrix\n",
        "import math\n",
        "from sklearn.metrics import confusion_matrix\n",
        "import seaborn as sn\n",
        "from sklearn.metrics import classification_report\n",
        "tf.config.experimental_run_functions_eagerly(True)\n",
        "from IPython.display import Image\n",
        "# Get the interactive Tools for Matplotlib\n",
        "import matplotlib.pyplot as plt\n",
        "plt.style.use('ggplot')\n",
        "import h5py\n"
      ],
      "execution_count": null,
      "outputs": [
        {
          "output_type": "stream",
          "text": [
            "/content/drive/My Drive/Colab Notebooks/data\n"
          ],
          "name": "stdout"
        },
        {
          "output_type": "stream",
          "text": [
            "/usr/local/lib/python3.6/dist-packages/statsmodels/tools/_testing.py:19: FutureWarning: pandas.util.testing is deprecated. Use the functions in the public API at pandas.testing instead.\n",
            "  import pandas.util.testing as tm\n"
          ],
          "name": "stderr"
        }
      ]
    },
    {
      "cell_type": "code",
      "metadata": {
        "id": "RYSfaOXIGIQr"
      },
      "source": [
        "#loading lyrics\n",
        "lyrics = pd.read_csv('data.csv')\n",
        "lyrics_data=list(lyrics['lyrics'].str.lower())\n",
        "artist_data=list(lyrics['artist'])"
      ],
      "execution_count": null,
      "outputs": []
    },
    {
      "cell_type": "code",
      "metadata": {
        "id": "FLPu3NJlGTZ1"
      },
      "source": [
        "#pre processing\n",
        "def preprocessing(data):\n",
        "  processed_data=[]\n",
        "\n",
        "  #removing everything except numbers and words\n",
        "  for i in data:\n",
        "    x = re.sub(r'[^a-z]+',' ',i)\n",
        "    processed_data.append(x)\n",
        "  \n",
        "  return processed_data\n",
        "\n",
        "processed_data = preprocessing(lyrics_data)\n"
      ],
      "execution_count": null,
      "outputs": []
    },
    {
      "cell_type": "code",
      "metadata": {
        "id": "JK1kdo-0dPjE"
      },
      "source": [
        ""
      ],
      "execution_count": null,
      "outputs": []
    },
    {
      "cell_type": "code",
      "metadata": {
        "id": "IEIrnIqAHjJh"
      },
      "source": [
        "#splitting data \n",
        "def split(data,labels):\n",
        "  train_data,test_data,train_labels,test_labels=splitter(data,labels,train_size=0.8,test_size=0.2,shuffle=True)\n",
        "\n",
        "  return train_data,train_labels,test_data,test_labels\n",
        "\n",
        "train_data,train_labels,test_data,test_labels=split(processed_data,artist_data)"
      ],
      "execution_count": null,
      "outputs": []
    },
    {
      "cell_type": "code",
      "metadata": {
        "id": "ZfS_zdxHKC6N",
        "colab": {
          "base_uri": "https://localhost:8080/",
          "height": 52
        },
        "outputId": "2196643c-2713-4e41-fd44-c4ff63cbc878"
      },
      "source": [
        "#integer encoding labels\n",
        "def encoded(labels):\n",
        "  label_encoder = LabelEncoder()\n",
        "  integer_encoded = label_encoder.fit_transform(labels)\n",
        "  print(label_encoder.classes_)\n",
        "  return np.array(integer_encoded)\n",
        "\n",
        "encoded_train_labels = encoded(train_labels)\n",
        "encoded_test_labels  = encoded(test_labels)\n"
      ],
      "execution_count": null,
      "outputs": [
        {
          "output_type": "stream",
          "text": [
            "['Eminem' 'Geazy' 'Kendrick' 'Mgk']\n",
            "['Eminem' 'Geazy' 'Kendrick' 'Mgk']\n"
          ],
          "name": "stdout"
        }
      ]
    },
    {
      "cell_type": "markdown",
      "metadata": {
        "id": "aGKLGKDMHJyV"
      },
      "source": [
        "# **BOW** Model\n",
        "\n",
        "\n"
      ]
    },
    {
      "cell_type": "code",
      "metadata": {
        "id": "3GnRWl_67odR"
      },
      "source": [
        "train_vectors[0]"
      ],
      "execution_count": null,
      "outputs": []
    },
    {
      "cell_type": "code",
      "metadata": {
        "id": "TUc1oLbxNfnH",
        "colab": {
          "base_uri": "https://localhost:8080/",
          "height": 34
        },
        "outputId": "689cf3ff-5e72-4a54-fc6e-b51b25b957a4"
      },
      "source": [
        "#Logistic Regression \n",
        "classifier = LogisticRegression(max_iter=1000)\n",
        "classifier.fit(train_vectors, encoded_train_labels)\n",
        "score = classifier.score(test_vectors, encoded_test_labels)\n",
        "print('LogisticR',score)\n"
      ],
      "execution_count": null,
      "outputs": [
        {
          "output_type": "stream",
          "text": [
            "LogisticR 0.775\n"
          ],
          "name": "stdout"
        }
      ]
    },
    {
      "cell_type": "code",
      "metadata": {
        "id": "DDEbTZ68Qut7",
        "colab": {
          "base_uri": "https://localhost:8080/",
          "height": 34
        },
        "outputId": "2c78d44d-3d1e-444d-ee4f-28110c0a4760"
      },
      "source": [
        "#SVM\n",
        "\n",
        "Linear_SVM = svm.LinearSVC()\n",
        "Linear_SVM.fit(train_vectors,encoded_train_labels)\n",
        "score = Linear_SVM.score(test_vectors, encoded_test_labels)\n",
        "print('one-verses-rest',score)\n"
      ],
      "execution_count": null,
      "outputs": [
        {
          "output_type": "stream",
          "text": [
            "one-verses-rest 0.75\n"
          ],
          "name": "stdout"
        }
      ]
    },
    {
      "cell_type": "code",
      "metadata": {
        "id": "oyl7vO9NOPFi",
        "colab": {
          "base_uri": "https://localhost:8080/",
          "height": 34
        },
        "outputId": "ca3320c1-595b-4ba4-aa0c-27d6ccba7214"
      },
      "source": [
        "#Naive Bayes\n",
        "\n",
        "#making dense matrix\n",
        "dense_train= csr_matrix(train_vectors)\n",
        "dense_train = dense_train.todense() \n",
        "dense_test = csr_matrix(test_vectors)\n",
        "dense_test = dense_test.todense()\n",
        "\n",
        "Naive2 = MultinomialNB()\n",
        "Naive2.fit(dense_train,encoded_train_labels)\n",
        "score = Naive2.score(dense_test, encoded_test_labels)\n",
        "print('MultinomialNB',score)\n",
        "\n",
        "\n",
        "\n"
      ],
      "execution_count": null,
      "outputs": [
        {
          "output_type": "stream",
          "text": [
            "MultinomialNB 0.8375\n"
          ],
          "name": "stdout"
        }
      ]
    },
    {
      "cell_type": "code",
      "metadata": {
        "id": "oAtzmuEi9tnL"
      },
      "source": [
        "#convering to onehot\n",
        "def onehot(integer_encoded):\n",
        "  onehot_encoder = OneHotEncoder(sparse=False)\n",
        "  integer_encoded = integer_encoded.reshape(len(integer_encoded), 1)\n",
        "  onehot_encoded= onehot_encoder.fit_transform(integer_encoded)\n",
        "  return np.array(onehot_encoded)\n",
        "\n",
        "one_encoded_train=onehot(encoded_train_labels)\n",
        "one_encoded_test =onehot(encoded_test_labels)"
      ],
      "execution_count": null,
      "outputs": []
    },
    {
      "cell_type": "code",
      "metadata": {
        "id": "PvmCfIFb792j",
        "colab": {
          "base_uri": "https://localhost:8080/",
          "height": 334
        },
        "outputId": "a465fa1a-3600-4416-aa3f-2b8957b3ab8d"
      },
      "source": [
        "#ANN\n",
        "model = Sequential()\n",
        "model.add(layers.Dense(100,input_dim=12682,activation='sigmoid'))\n",
        "model.add(Dropout(0.5))\n",
        "model.add(layers.Dense(100,activation='sigmoid'))\n",
        "model.add(Dropout(0.5))\n",
        "model.add(layers.Dense(4,activation='relu'))\n",
        "model.compile(loss='categorical_crossentropy',optimizer='adam',metrics=['accuracy'])\n",
        "model.summary()"
      ],
      "execution_count": null,
      "outputs": [
        {
          "output_type": "stream",
          "text": [
            "Model: \"sequential\"\n",
            "_________________________________________________________________\n",
            "Layer (type)                 Output Shape              Param #   \n",
            "=================================================================\n",
            "dense (Dense)                (None, 100)               1268300   \n",
            "_________________________________________________________________\n",
            "dropout (Dropout)            (None, 100)               0         \n",
            "_________________________________________________________________\n",
            "dense_1 (Dense)              (None, 100)               10100     \n",
            "_________________________________________________________________\n",
            "dropout_1 (Dropout)          (None, 100)               0         \n",
            "_________________________________________________________________\n",
            "dense_2 (Dense)              (None, 4)                 404       \n",
            "=================================================================\n",
            "Total params: 1,278,804\n",
            "Trainable params: 1,278,804\n",
            "Non-trainable params: 0\n",
            "_________________________________________________________________\n"
          ],
          "name": "stdout"
        }
      ]
    },
    {
      "cell_type": "code",
      "metadata": {
        "id": "1F1UnaZj9TTI",
        "colab": {
          "base_uri": "https://localhost:8080/",
          "height": 34
        },
        "outputId": "865ba328-4246-42ac-923b-a0c270799053"
      },
      "source": [
        "model.fit(train_vectors.toarray(),one_encoded_train, epochs=80, batch_size=25,verbose=0,shuffle=True)"
      ],
      "execution_count": null,
      "outputs": [
        {
          "output_type": "execute_result",
          "data": {
            "text/plain": [
              "<tensorflow.python.keras.callbacks.History at 0x7fe337b02c88>"
            ]
          },
          "metadata": {
            "tags": []
          },
          "execution_count": 34
        }
      ]
    },
    {
      "cell_type": "markdown",
      "metadata": {
        "id": "xgsdsuokSj0C"
      },
      "source": [
        "# **REPORT**"
      ]
    },
    {
      "cell_type": "code",
      "metadata": {
        "id": "DVIJ0HmLVNr4"
      },
      "source": [
        "Label_list=['Eminem', 'Geazy', 'Kendrick', 'Mgk']"
      ],
      "execution_count": null,
      "outputs": []
    },
    {
      "cell_type": "code",
      "metadata": {
        "id": "hJDftRF_SpTE",
        "colab": {
          "base_uri": "https://localhost:8080/",
          "height": 442
        },
        "outputId": "adf43bcd-fcc1-4420-c97a-bcb94ea20ebf"
      },
      "source": [
        "#ANN\n",
        "predictions1=[]\n",
        "predictions = model.predict(test_vectors)\n",
        "pred=[]\n",
        "\n",
        "for i in predictions:\n",
        "    pred.append(np.argmax(i))\n",
        "predictions1=pred\n",
        "\n",
        "test_Y_max=np.argmax(one_encoded_test, axis=-1)\n",
        "cm=confusion_matrix(test_Y_max,predictions1)\n",
        "cm = cm.astype('float') / cm.sum(axis=1)[:, np.newaxis]\n",
        "cm = pd.DataFrame(cm, Label_list,Label_list )# matrix,names row,names col,\n",
        "plt.figure(figsize=(10,7))\n",
        "sn.set(font_scale=1.4) # for label size\n",
        "sn.heatmap(cm, annot=True, annot_kws={\"size\": 11}, fmt=\".2f\") # font size\n",
        "plt.show()\n",
        "\n",
        "\n",
        "\n"
      ],
      "execution_count": null,
      "outputs": [
        {
          "output_type": "display_data",
          "data": {
            "image/png": "[encoded data removed]",
            "text/plain": [
              "<Figure size 720x504 with 2 Axes>"
            ]
          },
          "metadata": {
            "tags": []
          }
        }
      ]
    },
    {
      "cell_type": "code",
      "metadata": {
        "id": "0euK9vMkXYEt",
        "colab": {
          "base_uri": "https://localhost:8080/",
          "height": 228
        },
        "outputId": "220ed126-79c8-49f4-d1a4-0adcb3b1c5d0"
      },
      "source": [
        "\n",
        "print(\"Classification Report\\n\",classification_report(test_Y_max, predictions1, labels=[0,1,2,3], target_names = Label_list))"
      ],
      "execution_count": null,
      "outputs": [
        {
          "output_type": "stream",
          "text": [
            "Classification Report\n",
            "               precision    recall  f1-score   support\n",
            "\n",
            "      Eminem       0.61      1.00      0.75        23\n",
            "       Geazy       1.00      0.43      0.61        23\n",
            "    Kendrick       1.00      0.47      0.64        19\n",
            "         Mgk       0.52      0.80      0.63        15\n",
            "\n",
            "    accuracy                           0.68        80\n",
            "   macro avg       0.78      0.68      0.66        80\n",
            "weighted avg       0.80      0.68      0.66        80\n",
            "\n"
          ],
          "name": "stdout"
        }
      ]
    },
    {
      "cell_type": "code",
      "metadata": {
        "id": "Vn6GCGZOXqcU",
        "colab": {
          "base_uri": "https://localhost:8080/",
          "height": 442
        },
        "outputId": "47ecc717-1f51-430a-873b-b0686b4eeb39"
      },
      "source": [
        "#NB\n",
        "predictions2 = []\n",
        "predictions2 = np.array(Naive2.predict(test_vectors))\n",
        "\n",
        "\n",
        "test_Y_max=np.argmax(one_encoded_test, axis=-1)\n",
        "cm=confusion_matrix(test_Y_max,predictions2)\n",
        "cm = cm.astype('float') / cm.sum(axis=1)[:, np.newaxis]\n",
        "cm = pd.DataFrame(cm, Label_list,Label_list )# matrix,names row,names col,\n",
        "plt.figure(figsize=(10,7))\n",
        "sn.set(font_scale=1.4) # for label size\n",
        "sn.heatmap(cm, annot=True, annot_kws={\"size\": 11}, fmt=\".2f\") # font size\n",
        "plt.show()\n"
      ],
      "execution_count": null,
      "outputs": [
        {
          "output_type": "display_data",
          "data": {
            "image/png": "[encoded data removed]",
            "text/plain": [
              "<Figure size 720x504 with 2 Axes>"
            ]
          },
          "metadata": {
            "tags": []
          }
        }
      ]
    },
    {
      "cell_type": "code",
      "metadata": {
        "id": "OStAseLbY6TF",
        "colab": {
          "base_uri": "https://localhost:8080/",
          "height": 228
        },
        "outputId": "68fa4fbe-a645-4512-cec4-2ef1b78fb5d0"
      },
      "source": [
        "print(\"Classification Report\\n\",classification_report(test_Y_max, predictions2, labels=[0,1,2,3], target_names = Label_list))"
      ],
      "execution_count": null,
      "outputs": [
        {
          "output_type": "stream",
          "text": [
            "Classification Report\n",
            "               precision    recall  f1-score   support\n",
            "\n",
            "      Eminem       0.92      1.00      0.96        23\n",
            "       Geazy       0.77      0.74      0.76        23\n",
            "    Kendrick       0.86      0.95      0.90        19\n",
            "         Mgk       0.75      0.60      0.67        15\n",
            "\n",
            "    accuracy                           0.84        80\n",
            "   macro avg       0.82      0.82      0.82        80\n",
            "weighted avg       0.83      0.84      0.83        80\n",
            "\n"
          ],
          "name": "stdout"
        }
      ]
    },
    {
      "cell_type": "code",
      "metadata": {
        "id": "wC85gwbsZYxU",
        "colab": {
          "base_uri": "https://localhost:8080/",
          "height": 436
        },
        "outputId": "f77252b2-9f37-468b-98cc-549948af2a54"
      },
      "source": [
        "#SVM\n",
        "predictions3 = []\n",
        "predictions3 = np.array(Linear_SVM.predict(test_vectors))\n",
        "\n",
        "\n",
        "test_Y_max=np.argmax(one_encoded_test, axis=-1)\n",
        "cm=confusion_matrix(test_Y_max,predictions3)\n",
        "cm = cm.astype('float') / cm.sum(axis=1)[:, np.newaxis]\n",
        "cm = pd.DataFrame(cm, Label_list,Label_list )# matrix,names row,names col,\n",
        "plt.figure(figsize=(10,7))\n",
        "sn.set(font_scale=1.4) # for label size\n",
        "sn.heatmap(cm, annot=True, annot_kws={\"size\": 11}, fmt=\".2f\") # font size\n",
        "plt.show()\n"
      ],
      "execution_count": null,
      "outputs": [
        {
          "output_type": "display_data",
          "data": {
            "image/png": "[encoded data removed]",
            "text/plain": [
              "<Figure size 720x504 with 2 Axes>"
            ]
          },
          "metadata": {
            "tags": []
          }
        }
      ]
    },
    {
      "cell_type": "code",
      "metadata": {
        "id": "g6lxlf9QZ-U7",
        "colab": {
          "base_uri": "https://localhost:8080/",
          "height": 228
        },
        "outputId": "55c2a2be-6d72-453d-b720-698863e0f4b7"
      },
      "source": [
        "print(\"Classification Report\\n\",classification_report(test_Y_max, predictions3, labels=[0,1,2,3], target_names = Label_list))"
      ],
      "execution_count": null,
      "outputs": [
        {
          "output_type": "stream",
          "text": [
            "Classification Report\n",
            "               precision    recall  f1-score   support\n",
            "\n",
            "      Eminem       0.91      0.91      0.91        23\n",
            "       Geazy       0.73      0.70      0.71        23\n",
            "    Kendrick       0.72      0.68      0.70        19\n",
            "         Mgk       0.59      0.67      0.62        15\n",
            "\n",
            "    accuracy                           0.75        80\n",
            "   macro avg       0.74      0.74      0.74        80\n",
            "weighted avg       0.75      0.75      0.75        80\n",
            "\n"
          ],
          "name": "stdout"
        }
      ]
    },
    {
      "cell_type": "code",
      "metadata": {
        "id": "3xHC5ScuaDtI",
        "colab": {
          "base_uri": "https://localhost:8080/",
          "height": 436
        },
        "outputId": "cbdf01cd-ed5c-43b6-b41f-a97d2c6916ff"
      },
      "source": [
        "#LR\n",
        "predictions4 = []\n",
        "predictions4 = np.array(classifier.predict(test_vectors))\n",
        "\n",
        "\n",
        "test_Y_max=np.argmax(one_encoded_test, axis=-1)\n",
        "cm=confusion_matrix(test_Y_max,predictions4)\n",
        "cm = cm.astype('float') / cm.sum(axis=1)[:, np.newaxis]\n",
        "cm = pd.DataFrame(cm, Label_list,Label_list )# matrix,names row,names col,\n",
        "plt.figure(figsize=(10,7))\n",
        "sn.set(font_scale=1.4) # for label size\n",
        "sn.heatmap(cm, annot=True, annot_kws={\"size\": 11}, fmt=\".2f\") # font size\n",
        "plt.show()\n"
      ],
      "execution_count": null,
      "outputs": [
        {
          "output_type": "display_data",
          "data": {
            "image/png": "[encoded data removed]",
            "text/plain": [
              "<Figure size 720x504 with 2 Axes>"
            ]
          },
          "metadata": {
            "tags": []
          }
        }
      ]
    },
    {
      "cell_type": "code",
      "metadata": {
        "id": "aGBTfwgoaQ8V",
        "colab": {
          "base_uri": "https://localhost:8080/",
          "height": 228
        },
        "outputId": "a408e3a7-5e30-4e7c-dd5b-8b9331ffe6d1"
      },
      "source": [
        "print(\"Classification Report\\n\",classification_report(test_Y_max, predictions4, labels=[0,1,2,3], target_names = Label_list))"
      ],
      "execution_count": null,
      "outputs": [
        {
          "output_type": "stream",
          "text": [
            "Classification Report\n",
            "               precision    recall  f1-score   support\n",
            "\n",
            "      Eminem       0.95      0.91      0.93        23\n",
            "       Geazy       0.68      0.74      0.71        23\n",
            "    Kendrick       0.82      0.74      0.78        19\n",
            "         Mgk       0.62      0.67      0.65        15\n",
            "\n",
            "    accuracy                           0.78        80\n",
            "   macro avg       0.77      0.76      0.77        80\n",
            "weighted avg       0.78      0.78      0.78        80\n",
            "\n"
          ],
          "name": "stdout"
        }
      ]
    },
    {
      "cell_type": "markdown",
      "metadata": {
        "id": "n3VHwYmQgOng"
      },
      "source": [
        "#Ensembling models\n"
      ]
    },
    {
      "cell_type": "code",
      "metadata": {
        "id": "5K8Sx20vna8a"
      },
      "source": [
        "import numpy as np\n",
        "from scipy import stats\n",
        "final = []\n",
        "for i in range(0,len(predictions1)):\n",
        "  mode= stats.mode([predictions1[i],predictions2[i],predictions3[i],predictions4[i]])[0][0]\n",
        "  final.append(mode)"
      ],
      "execution_count": null,
      "outputs": []
    },
    {
      "cell_type": "code",
      "metadata": {
        "id": "rcqdiN8Jp8O8",
        "colab": {
          "base_uri": "https://localhost:8080/",
          "height": 228
        },
        "outputId": "ec7d6a17-780f-4156-9365-ec8e378b29eb"
      },
      "source": [
        "print(\"Classification Report\\n\",classification_report(test_Y_max, final, labels=[0,1,2,3], target_names = Label_list))"
      ],
      "execution_count": null,
      "outputs": [
        {
          "output_type": "stream",
          "text": [
            "Classification Report\n",
            "               precision    recall  f1-score   support\n",
            "\n",
            "      Eminem       0.88      1.00      0.94        23\n",
            "       Geazy       0.79      0.83      0.81        23\n",
            "    Kendrick       0.88      0.79      0.83        19\n",
            "         Mgk       0.69      0.60      0.64        15\n",
            "\n",
            "    accuracy                           0.82        80\n",
            "   macro avg       0.81      0.80      0.81        80\n",
            "weighted avg       0.82      0.82      0.82        80\n",
            "\n"
          ],
          "name": "stdout"
        }
      ]
    }
  ]
}